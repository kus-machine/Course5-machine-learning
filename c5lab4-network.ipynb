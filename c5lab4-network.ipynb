{
 "cells": [
  {
   "cell_type": "code",
   "execution_count": 1,
   "id": "513e3063",
   "metadata": {
    "_cell_guid": "b1076dfc-b9ad-4769-8c92-a6c4dae69d19",
    "_uuid": "8f2839f25d086af736a60e9eeb907d3b93b6e0e5",
    "execution": {
     "iopub.execute_input": "2021-12-19T15:01:10.672366Z",
     "iopub.status.busy": "2021-12-19T15:01:10.671137Z",
     "iopub.status.idle": "2021-12-19T15:01:17.905111Z",
     "shell.execute_reply": "2021-12-19T15:01:17.905680Z",
     "shell.execute_reply.started": "2021-12-19T14:50:07.415359Z"
    },
    "papermill": {
     "duration": 7.257908,
     "end_time": "2021-12-19T15:01:17.905988",
     "exception": false,
     "start_time": "2021-12-19T15:01:10.648080",
     "status": "completed"
    },
    "tags": []
   },
   "outputs": [
    {
     "name": "stdout",
     "output_type": "stream",
     "text": [
      "/kaggle/input/oranges-vs-grapefruit/citrus.csv\n",
      "/kaggle/input/covid-19-nlp-text-classification/Corona_NLP_test.csv\n",
      "/kaggle/input/covid-19-nlp-text-classification/Corona_NLP_train.csv\n",
      "/kaggle/input/fashionmnist/t10k-labels-idx1-ubyte\n",
      "/kaggle/input/fashionmnist/t10k-images-idx3-ubyte\n",
      "/kaggle/input/fashionmnist/fashion-mnist_test.csv\n",
      "/kaggle/input/fashionmnist/fashion-mnist_train.csv\n",
      "/kaggle/input/fashionmnist/train-labels-idx1-ubyte\n",
      "/kaggle/input/fashionmnist/train-images-idx3-ubyte\n"
     ]
    }
   ],
   "source": [
    "# This Python 3 environment comes with many helpful analytics libraries installed\n",
    "# It is defined by the kaggle/python Docker image: https://github.com/kaggle/docker-python\n",
    "# For example, here's several helpful packages to load\n",
    "\n",
    "import numpy as np # linear algebra\n",
    "import pandas as pd # data processing, CSV file I/O (e.g. pd.read_csv)\n",
    "\n",
    "from sklearn.model_selection import train_test_split\n",
    "\n",
    "import tensorflow as tf\n",
    "from tensorflow import keras\n",
    "from tensorflow.keras import layers\n",
    "\n",
    "import matplotlib.pyplot as plt\n",
    "from sklearn.preprocessing import StandardScaler, MinMaxScaler\n",
    "# Input data files are available in the read-only \"../input/\" directory\n",
    "# For example, running this (by clicking run or pressing Shift+Enter) will list all files under the input directory\n",
    "\n",
    "import os\n",
    "for dirname, _, filenames in os.walk('/kaggle/input'):\n",
    "    for filename in filenames:\n",
    "        print(os.path.join(dirname, filename))\n",
    "\n",
    "# You can write up to 20GB to the current directory (/kaggle/working/) that gets preserved as output when you create a version using \"Save & Run All\" \n",
    "# You can also write temporary files to /kaggle/temp/, but they won't be saved outside of the current session"
   ]
  },
  {
   "cell_type": "code",
   "execution_count": 2,
   "id": "350d8d19",
   "metadata": {
    "execution": {
     "iopub.execute_input": "2021-12-19T15:01:17.952455Z",
     "iopub.status.busy": "2021-12-19T15:01:17.951755Z",
     "iopub.status.idle": "2021-12-19T15:01:18.019322Z",
     "shell.execute_reply": "2021-12-19T15:01:18.018591Z",
     "shell.execute_reply.started": "2021-12-19T14:50:15.005004Z"
    },
    "papermill": {
     "duration": 0.094785,
     "end_time": "2021-12-19T15:01:18.019470",
     "exception": false,
     "start_time": "2021-12-19T15:01:17.924685",
     "status": "completed"
    },
    "tags": []
   },
   "outputs": [
    {
     "data": {
      "text/plain": [
       "array([[0.38250556, 0.34712446, 0.58108108, 0.52631579, 0.        ],\n",
       "       [0.49814678, 0.47273247, 0.5       , 0.26315789, 0.        ],\n",
       "       [0.28391401, 0.23296137, 0.55405405, 0.69736842, 0.01851852],\n",
       "       ...,\n",
       "       [0.56115641, 0.54609442, 0.59459459, 0.39473684, 0.12962963],\n",
       "       [0.51519644, 0.50437768, 0.72972973, 0.63157895, 0.        ],\n",
       "       [0.67383247, 0.6839485 , 0.78378378, 0.36842105, 0.07407407]])"
      ]
     },
     "execution_count": 2,
     "metadata": {},
     "output_type": "execute_result"
    }
   ],
   "source": [
    "data = pd.read_csv('/kaggle/input/oranges-vs-grapefruit/citrus.csv')\n",
    "\n",
    "X = data.drop(['name'], axis = 1)\n",
    "y = data['name']\n",
    "y = y.replace(\"orange\", 0)\n",
    "y = y.replace(\"grapefruit\", 1)\n",
    "# y[y == \"orange\"] = 0\n",
    "# y[y == \"grapefruit\"] = 1\n",
    "\n",
    "X_train, X_test, y_train, y_test = train_test_split(X, y, test_size=0.4)\n",
    "scaler = MinMaxScaler()\n",
    "scaler.fit(X_train)\n",
    "\n",
    "scaled_X_train = scaler.transform(X_train) \n",
    "scaled_X_test = scaler.transform(X_test)\n",
    "\n",
    "y_train = keras.utils.to_categorical(y_train, 2)\n",
    "y_test = keras.utils.to_categorical(y_test, 2)\n",
    "scaled_X_train"
   ]
  },
  {
   "cell_type": "code",
   "execution_count": 3,
   "id": "b36f765f",
   "metadata": {
    "execution": {
     "iopub.execute_input": "2021-12-19T15:01:18.060374Z",
     "iopub.status.busy": "2021-12-19T15:01:18.059386Z",
     "iopub.status.idle": "2021-12-19T15:01:18.197615Z",
     "shell.execute_reply": "2021-12-19T15:01:18.198342Z",
     "shell.execute_reply.started": "2021-12-19T14:50:15.073421Z"
    },
    "papermill": {
     "duration": 0.16094,
     "end_time": "2021-12-19T15:01:18.198573",
     "exception": false,
     "start_time": "2021-12-19T15:01:18.037633",
     "status": "completed"
    },
    "tags": []
   },
   "outputs": [
    {
     "name": "stdout",
     "output_type": "stream",
     "text": [
      "Model: \"sequential\"\n",
      "_________________________________________________________________\n",
      "Layer (type)                 Output Shape              Param #   \n",
      "=================================================================\n",
      "dense (Dense)                (None, 14)                84        \n",
      "_________________________________________________________________\n",
      "dense_1 (Dense)              (None, 14)                210       \n",
      "_________________________________________________________________\n",
      "dense_2 (Dense)              (None, 2)                 30        \n",
      "=================================================================\n",
      "Total params: 324\n",
      "Trainable params: 324\n",
      "Non-trainable params: 0\n",
      "_________________________________________________________________\n"
     ]
    },
    {
     "name": "stderr",
     "output_type": "stream",
     "text": [
      "\n",
      "User settings:\n",
      "\n",
      "   KMP_AFFINITY=granularity=fine,verbose,compact,1,0\n",
      "   KMP_BLOCKTIME=0\n",
      "   KMP_DUPLICATE_LIB_OK=True\n",
      "   KMP_INIT_AT_FORK=FALSE\n",
      "   KMP_SETTINGS=1\n",
      "   KMP_WARNINGS=0\n",
      "\n",
      "Effective settings:\n",
      "\n",
      "   KMP_ABORT_DELAY=0\n",
      "   KMP_ADAPTIVE_LOCK_PROPS='1,1024'\n",
      "   KMP_ALIGN_ALLOC=64\n",
      "   KMP_ALL_THREADPRIVATE=128\n",
      "   KMP_ATOMIC_MODE=2\n",
      "   KMP_BLOCKTIME=0\n",
      "   KMP_CPUINFO_FILE: value is not defined\n",
      "   KMP_DETERMINISTIC_REDUCTION=false\n",
      "   KMP_DEVICE_THREAD_LIMIT=2147483647\n",
      "   KMP_DISP_NUM_BUFFERS=7\n",
      "   KMP_DUPLICATE_LIB_OK=true\n",
      "   KMP_ENABLE_TASK_THROTTLING=true\n",
      "   KMP_FORCE_REDUCTION: value is not defined\n",
      "   KMP_FOREIGN_THREADS_THREADPRIVATE=true\n",
      "   KMP_FORKJOIN_BARRIER='2,2'\n",
      "   KMP_FORKJOIN_BARRIER_PATTERN='hyper,hyper'\n",
      "   KMP_GTID_MODE=3\n",
      "   KMP_HANDLE_SIGNALS=false\n",
      "   KMP_HOT_TEAMS_MAX_LEVEL=1\n",
      "   KMP_HOT_TEAMS_MODE=0\n",
      "   KMP_INIT_AT_FORK=true\n",
      "   KMP_LIBRARY=throughput\n",
      "   KMP_LOCK_KIND=queuing\n",
      "   KMP_MALLOC_POOL_INCR=1M\n",
      "   KMP_NUM_LOCKS_IN_BLOCK=1\n",
      "   KMP_PLAIN_BARRIER='2,2'\n",
      "   KMP_PLAIN_BARRIER_PATTERN='hyper,hyper'\n",
      "   KMP_REDUCTION_BARRIER='1,1'\n",
      "   KMP_REDUCTION_BARRIER_PATTERN='hyper,hyper'\n",
      "   KMP_SCHEDULE='static,balanced;guided,iterative'\n",
      "   KMP_SETTINGS=true\n",
      "   KMP_SPIN_BACKOFF_PARAMS='4096,100'\n",
      "   KMP_STACKOFFSET=64\n",
      "   KMP_STACKPAD=0\n",
      "   KMP_STACKSIZE=8M\n",
      "   KMP_STORAGE_MAP=false\n",
      "   KMP_TASKING=2\n",
      "   KMP_TASKLOOP_MIN_TASKS=0\n",
      "   KMP_TASK_STEALING_CONSTRAINT=1\n",
      "   KMP_TEAMS_THREAD_LIMIT=4\n",
      "   KMP_TOPOLOGY_METHOD=all\n",
      "   KMP_USE_YIELD=1\n",
      "   KMP_VERSION=false\n",
      "   KMP_WARNINGS=false\n",
      "   OMP_AFFINITY_FORMAT='OMP: pid %P tid %i thread %n bound to OS proc set {%A}'\n",
      "   OMP_ALLOCATOR=omp_default_mem_alloc\n",
      "   OMP_CANCELLATION=false\n",
      "   OMP_DEFAULT_DEVICE=0\n",
      "   OMP_DISPLAY_AFFINITY=false\n",
      "   OMP_DISPLAY_ENV=false\n",
      "   OMP_DYNAMIC=false\n",
      "   OMP_MAX_ACTIVE_LEVELS=1\n",
      "   OMP_MAX_TASK_PRIORITY=0\n",
      "   OMP_NESTED: deprecated; max-active-levels-var=1\n",
      "   OMP_NUM_THREADS: value is not defined\n",
      "   OMP_PLACES: value is not defined\n",
      "   OMP_PROC_BIND='intel'\n",
      "   OMP_SCHEDULE='static'\n",
      "   OMP_STACKSIZE=8M\n",
      "   OMP_TARGET_OFFLOAD=DEFAULT\n",
      "   OMP_THREAD_LIMIT=2147483647\n",
      "   OMP_WAIT_POLICY=PASSIVE\n",
      "   KMP_AFFINITY='verbose,warnings,respect,granularity=fine,compact,1,0'\n",
      "\n",
      "2021-12-19 15:01:18.097254: I tensorflow/core/common_runtime/process_util.cc:146] Creating new thread pool with default inter op setting: 2. Tune using inter_op_parallelism_threads for best performance.\n"
     ]
    }
   ],
   "source": [
    "model =  keras.Sequential()\n",
    "model.add(layers.Dense(14, activation='relu', input_shape=(5,)))\n",
    "model.add(layers.Dense(14, activation='relu'))\n",
    "model.add(layers.Dense(2, activation='sigmoid'))\n",
    "\n",
    "model.summary()\n",
    "model.compile(loss='binary_crossentropy',   optimizer='adam', metrics=['accuracy'])"
   ]
  },
  {
   "cell_type": "code",
   "execution_count": 4,
   "id": "aecd28ca",
   "metadata": {
    "execution": {
     "iopub.execute_input": "2021-12-19T15:01:18.244659Z",
     "iopub.status.busy": "2021-12-19T15:01:18.243893Z",
     "iopub.status.idle": "2021-12-19T15:01:29.132347Z",
     "shell.execute_reply": "2021-12-19T15:01:29.133139Z",
     "shell.execute_reply.started": "2021-12-19T14:50:15.225934Z"
    },
    "papermill": {
     "duration": 10.915542,
     "end_time": "2021-12-19T15:01:29.133345",
     "exception": false,
     "start_time": "2021-12-19T15:01:18.217803",
     "status": "completed"
    },
    "tags": []
   },
   "outputs": [
    {
     "name": "stderr",
     "output_type": "stream",
     "text": [
      "2021-12-19 15:01:18.325951: I tensorflow/compiler/mlir/mlir_graph_optimization_pass.cc:185] None of the MLIR Optimization Passes are enabled (registered 2)\n"
     ]
    },
    {
     "name": "stdout",
     "output_type": "stream",
     "text": [
      "Epoch 1/10\n",
      "480/480 - 2s - loss: 0.4498 - accuracy: 0.7894 - val_loss: 0.2284 - val_accuracy: 0.9350\n",
      "Epoch 2/10\n",
      "480/480 - 1s - loss: 0.2147 - accuracy: 0.9202 - val_loss: 0.1704 - val_accuracy: 0.9367\n",
      "Epoch 3/10\n",
      "480/480 - 1s - loss: 0.1953 - accuracy: 0.9181 - val_loss: 0.1703 - val_accuracy: 0.9300\n",
      "Epoch 4/10\n",
      "480/480 - 1s - loss: 0.1902 - accuracy: 0.9219 - val_loss: 0.1597 - val_accuracy: 0.9408\n",
      "Epoch 5/10\n",
      "480/480 - 1s - loss: 0.1885 - accuracy: 0.9258 - val_loss: 0.1606 - val_accuracy: 0.9350\n",
      "Epoch 6/10\n",
      "480/480 - 1s - loss: 0.1881 - accuracy: 0.9223 - val_loss: 0.1584 - val_accuracy: 0.9392\n",
      "Epoch 7/10\n",
      "480/480 - 1s - loss: 0.1900 - accuracy: 0.9223 - val_loss: 0.1570 - val_accuracy: 0.9383\n",
      "Epoch 8/10\n",
      "480/480 - 1s - loss: 0.1884 - accuracy: 0.9233 - val_loss: 0.1586 - val_accuracy: 0.9358\n",
      "Epoch 9/10\n",
      "480/480 - 1s - loss: 0.1879 - accuracy: 0.9235 - val_loss: 0.1561 - val_accuracy: 0.9383\n",
      "Epoch 10/10\n",
      "480/480 - 1s - loss: 0.1858 - accuracy: 0.9254 - val_loss: 0.1599 - val_accuracy: 0.9367\n"
     ]
    }
   ],
   "source": [
    "history = model.fit(scaled_X_train,\n",
    "                    y_train,\n",
    "                    epochs=10,\n",
    "                    batch_size=10,                                   \n",
    "                    validation_split=0.2,\n",
    "                    verbose = 2)"
   ]
  },
  {
   "cell_type": "code",
   "execution_count": 5,
   "id": "d55f9ee6",
   "metadata": {
    "execution": {
     "iopub.execute_input": "2021-12-19T15:01:29.188049Z",
     "iopub.status.busy": "2021-12-19T15:01:29.187367Z",
     "iopub.status.idle": "2021-12-19T15:01:29.192815Z",
     "shell.execute_reply": "2021-12-19T15:01:29.193487Z",
     "shell.execute_reply.started": "2021-12-19T14:50:24.144963Z"
    },
    "papermill": {
     "duration": 0.034683,
     "end_time": "2021-12-19T15:01:29.193679",
     "exception": false,
     "start_time": "2021-12-19T15:01:29.158996",
     "status": "completed"
    },
    "tags": []
   },
   "outputs": [],
   "source": [
    "def show_some(arr):\n",
    "    loss_values = arr[\"loss\"]\n",
    "    val_loss_values = arr[\"val_loss\"]\n",
    "    epochs = range(1, len(loss_values) + 1)\n",
    "    plt.plot(epochs, loss_values, \"bo\", label=\"Training loss\")\n",
    "    plt.plot(epochs, val_loss_values, \"b\", label=\"Validation loss\")\n",
    "    plt.title(\"Training and validation loss\")\n",
    "    plt.xlabel(\"Epochs\")\n",
    "    plt.ylabel(\"Loss\")\n",
    "    plt.grid()\n",
    "    plt.legend()\n",
    "    plt.show()"
   ]
  },
  {
   "cell_type": "code",
   "execution_count": 6,
   "id": "2e7cd480",
   "metadata": {
    "execution": {
     "iopub.execute_input": "2021-12-19T15:01:29.253818Z",
     "iopub.status.busy": "2021-12-19T15:01:29.252733Z",
     "iopub.status.idle": "2021-12-19T15:01:29.497363Z",
     "shell.execute_reply": "2021-12-19T15:01:29.496658Z",
     "shell.execute_reply.started": "2021-12-19T14:50:24.152558Z"
    },
    "papermill": {
     "duration": 0.278409,
     "end_time": "2021-12-19T15:01:29.497521",
     "exception": false,
     "start_time": "2021-12-19T15:01:29.219112",
     "status": "completed"
    },
    "tags": []
   },
   "outputs": [
    {
     "data": {
      "image/png": "[encoded data removed]",
      "text/plain": [
       "<Figure size 432x288 with 1 Axes>"
      ]
     },
     "metadata": {
      "needs_background": "light"
     },
     "output_type": "display_data"
    }
   ],
   "source": [
    "history_dict = history.history\n",
    "show_some(history_dict)"
   ]
  },
  {
   "cell_type": "code",
   "execution_count": 7,
   "id": "5e58ad1a",
   "metadata": {
    "execution": {
     "iopub.execute_input": "2021-12-19T15:01:29.554780Z",
     "iopub.status.busy": "2021-12-19T15:01:29.553758Z",
     "iopub.status.idle": "2021-12-19T15:01:29.907891Z",
     "shell.execute_reply": "2021-12-19T15:01:29.909232Z",
     "shell.execute_reply.started": "2021-12-19T14:50:24.390302Z"
    },
    "papermill": {
     "duration": 0.385524,
     "end_time": "2021-12-19T15:01:29.909467",
     "exception": false,
     "start_time": "2021-12-19T15:01:29.523943",
     "status": "completed"
    },
    "tags": []
   },
   "outputs": [
    {
     "name": "stdout",
     "output_type": "stream",
     "text": [
      "Test score: 0.18273739516735077\n",
      "Test accuracy: 0.9267500042915344\n"
     ]
    }
   ],
   "source": [
    "score = model.evaluate(scaled_X_test, y_test, verbose=0) \n",
    "print('Test score:', score[0]) \n",
    "print('Test accuracy:', score[1])"
   ]
  },
  {
   "cell_type": "code",
   "execution_count": 8,
   "id": "cab685a7",
   "metadata": {
    "execution": {
     "iopub.execute_input": "2021-12-19T15:01:29.966698Z",
     "iopub.status.busy": "2021-12-19T15:01:29.966047Z",
     "iopub.status.idle": "2021-12-19T15:01:32.563566Z",
     "shell.execute_reply": "2021-12-19T15:01:32.562651Z",
     "shell.execute_reply.started": "2021-12-19T14:50:24.731535Z"
    },
    "papermill": {
     "duration": 2.627125,
     "end_time": "2021-12-19T15:01:32.563728",
     "exception": false,
     "start_time": "2021-12-19T15:01:29.936603",
     "status": "completed"
    },
    "tags": []
   },
   "outputs": [
    {
     "name": "stdout",
     "output_type": "stream",
     "text": [
      "Model: \"sequential_1\"\n",
      "_________________________________________________________________\n",
      "Layer (type)                 Output Shape              Param #   \n",
      "=================================================================\n",
      "dense_3 (Dense)              (None, 14)                84        \n",
      "_________________________________________________________________\n",
      "dropout (Dropout)            (None, 14)                0         \n",
      "_________________________________________________________________\n",
      "dense_4 (Dense)              (None, 14)                210       \n",
      "_________________________________________________________________\n",
      "dropout_1 (Dropout)          (None, 14)                0         \n",
      "_________________________________________________________________\n",
      "dense_5 (Dense)              (None, 2)                 30        \n",
      "=================================================================\n",
      "Total params: 324\n",
      "Trainable params: 324\n",
      "Non-trainable params: 0\n",
      "_________________________________________________________________\n",
      "Epoch 1/10\n",
      "75/75 - 1s - loss: 0.6872 - accuracy: 0.5531 - val_loss: 0.6567 - val_accuracy: 0.6033\n",
      "Epoch 2/10\n",
      "75/75 - 0s - loss: 0.6416 - accuracy: 0.6423 - val_loss: 0.5899 - val_accuracy: 0.8208\n",
      "Epoch 3/10\n",
      "75/75 - 0s - loss: 0.5797 - accuracy: 0.7406 - val_loss: 0.4885 - val_accuracy: 0.9058\n",
      "Epoch 4/10\n",
      "75/75 - 0s - loss: 0.5124 - accuracy: 0.7983 - val_loss: 0.4013 - val_accuracy: 0.9250\n",
      "Epoch 5/10\n",
      "75/75 - 0s - loss: 0.4452 - accuracy: 0.8379 - val_loss: 0.3157 - val_accuracy: 0.9300\n",
      "Epoch 6/10\n",
      "75/75 - 0s - loss: 0.3927 - accuracy: 0.8525 - val_loss: 0.2619 - val_accuracy: 0.9308\n",
      "Epoch 7/10\n",
      "75/75 - 0s - loss: 0.3608 - accuracy: 0.8631 - val_loss: 0.2330 - val_accuracy: 0.9333\n",
      "Epoch 8/10\n",
      "75/75 - 0s - loss: 0.3426 - accuracy: 0.8710 - val_loss: 0.2122 - val_accuracy: 0.9375\n",
      "Epoch 9/10\n",
      "75/75 - 0s - loss: 0.3225 - accuracy: 0.8792 - val_loss: 0.2014 - val_accuracy: 0.9342\n",
      "Epoch 10/10\n",
      "75/75 - 0s - loss: 0.3147 - accuracy: 0.8881 - val_loss: 0.1920 - val_accuracy: 0.9325\n"
     ]
    }
   ],
   "source": [
    "model =  keras.Sequential()\n",
    "model.add(layers.Dense(14, activation='relu', input_shape=(5,)))\n",
    "model.add(layers.Dropout(0.5))\n",
    "model.add(layers.Dense(14, activation='relu'))\n",
    "model.add(layers.Dropout(0.5))\n",
    "model.add(layers.Dense(2, activation='sigmoid'))\n",
    "\n",
    "model.summary()\n",
    "model.compile(loss='binary_crossentropy',   optimizer='adam', metrics=['accuracy'])\n",
    "\n",
    "history = model.fit(scaled_X_train,\n",
    "                    y_train,\n",
    "                    epochs=10,\n",
    "                    batch_size=64,                                   \n",
    "                    validation_split=0.2,\n",
    "                    verbose = 2)"
   ]
  },
  {
   "cell_type": "code",
   "execution_count": 9,
   "id": "6040cbf4",
   "metadata": {
    "execution": {
     "iopub.execute_input": "2021-12-19T15:01:32.639438Z",
     "iopub.status.busy": "2021-12-19T15:01:32.638722Z",
     "iopub.status.idle": "2021-12-19T15:01:35.766829Z",
     "shell.execute_reply": "2021-12-19T15:01:35.766143Z",
     "shell.execute_reply.started": "2021-12-19T14:50:27.064993Z"
    },
    "papermill": {
     "duration": 3.170339,
     "end_time": "2021-12-19T15:01:35.766995",
     "exception": false,
     "start_time": "2021-12-19T15:01:32.596656",
     "status": "completed"
    },
    "tags": []
   },
   "outputs": [
    {
     "name": "stdout",
     "output_type": "stream",
     "text": [
      "Model: \"sequential_2\"\n",
      "_________________________________________________________________\n",
      "Layer (type)                 Output Shape              Param #   \n",
      "=================================================================\n",
      "dense_6 (Dense)              (None, 14)                84        \n",
      "_________________________________________________________________\n",
      "batch_normalization (BatchNo (None, 14)                56        \n",
      "_________________________________________________________________\n",
      "activation (Activation)      (None, 14)                0         \n",
      "_________________________________________________________________\n",
      "dropout_2 (Dropout)          (None, 14)                0         \n",
      "_________________________________________________________________\n",
      "dense_7 (Dense)              (None, 14)                210       \n",
      "_________________________________________________________________\n",
      "batch_normalization_1 (Batch (None, 14)                56        \n",
      "_________________________________________________________________\n",
      "activation_1 (Activation)    (None, 14)                0         \n",
      "_________________________________________________________________\n",
      "dropout_3 (Dropout)          (None, 14)                0         \n",
      "_________________________________________________________________\n",
      "dense_8 (Dense)              (None, 2)                 30        \n",
      "=================================================================\n",
      "Total params: 436\n",
      "Trainable params: 380\n",
      "Non-trainable params: 56\n",
      "_________________________________________________________________\n",
      "Epoch 1/10\n",
      "75/75 - 1s - loss: 0.7317 - accuracy: 0.5806 - val_loss: 0.6612 - val_accuracy: 0.6383\n",
      "Epoch 2/10\n",
      "75/75 - 0s - loss: 0.6052 - accuracy: 0.7002 - val_loss: 0.6195 - val_accuracy: 0.8192\n",
      "Epoch 3/10\n",
      "75/75 - 0s - loss: 0.5045 - accuracy: 0.7904 - val_loss: 0.5397 - val_accuracy: 0.9175\n",
      "Epoch 4/10\n",
      "75/75 - 0s - loss: 0.4339 - accuracy: 0.8383 - val_loss: 0.4425 - val_accuracy: 0.9308\n",
      "Epoch 5/10\n",
      "75/75 - 0s - loss: 0.3928 - accuracy: 0.8537 - val_loss: 0.3475 - val_accuracy: 0.9325\n",
      "Epoch 6/10\n",
      "75/75 - 0s - loss: 0.3570 - accuracy: 0.8706 - val_loss: 0.2700 - val_accuracy: 0.9383\n",
      "Epoch 7/10\n",
      "75/75 - 0s - loss: 0.3293 - accuracy: 0.8823 - val_loss: 0.2142 - val_accuracy: 0.9375\n",
      "Epoch 8/10\n",
      "75/75 - 0s - loss: 0.3085 - accuracy: 0.8913 - val_loss: 0.1869 - val_accuracy: 0.9375\n",
      "Epoch 9/10\n",
      "75/75 - 0s - loss: 0.2967 - accuracy: 0.8902 - val_loss: 0.1784 - val_accuracy: 0.9367\n",
      "Epoch 10/10\n",
      "75/75 - 0s - loss: 0.2902 - accuracy: 0.8946 - val_loss: 0.1657 - val_accuracy: 0.9367\n"
     ]
    }
   ],
   "source": [
    "model =  keras.Sequential()\n",
    "\n",
    "model.add(layers.Dense(14, input_shape=(5,)))\n",
    "model.add(layers.BatchNormalization()) \n",
    "model.add(layers.Activation('relu')) \n",
    "model.add(layers.Dropout(0.5))\n",
    "\n",
    "model.add(layers.Dense(14))\n",
    "model.add(layers.BatchNormalization()) \n",
    "model.add(layers.Activation('relu')) \n",
    "model.add(layers.Dropout(0.5))\n",
    "\n",
    "model.add(layers.Dense(2, activation='sigmoid'))\n",
    "\n",
    "model.summary()\n",
    "model.compile(loss='binary_crossentropy',   optimizer='adam', metrics=['accuracy'])\n",
    "\n",
    "history = model.fit(scaled_X_train,\n",
    "                    y_train,\n",
    "                    epochs=10,\n",
    "                    batch_size=64,                                   \n",
    "                    validation_split=0.2,\n",
    "                    verbose = 2)"
   ]
  },
  {
   "cell_type": "code",
   "execution_count": 10,
   "id": "c5c0edd1",
   "metadata": {
    "execution": {
     "iopub.execute_input": "2021-12-19T15:01:35.848584Z",
     "iopub.status.busy": "2021-12-19T15:01:35.847847Z",
     "iopub.status.idle": "2021-12-19T15:01:37.232693Z",
     "shell.execute_reply": "2021-12-19T15:01:37.233338Z",
     "shell.execute_reply.started": "2021-12-19T14:50:30.077057Z"
    },
    "papermill": {
     "duration": 1.426911,
     "end_time": "2021-12-19T15:01:37.233513",
     "exception": false,
     "start_time": "2021-12-19T15:01:35.806602",
     "status": "completed"
    },
    "tags": []
   },
   "outputs": [
    {
     "name": "stdout",
     "output_type": "stream",
     "text": [
      "Downloading data from https://storage.googleapis.com/tensorflow/tf-keras-datasets/train-labels-idx1-ubyte.gz\n",
      "32768/29515 [=================================] - 0s 0us/step\n",
      "40960/29515 [=========================================] - 0s 0us/step\n",
      "Downloading data from https://storage.googleapis.com/tensorflow/tf-keras-datasets/train-images-idx3-ubyte.gz\n",
      "26427392/26421880 [==============================] - 0s 0us/step\n",
      "26435584/26421880 [==============================] - 0s 0us/step\n",
      "Downloading data from https://storage.googleapis.com/tensorflow/tf-keras-datasets/t10k-labels-idx1-ubyte.gz\n",
      "16384/5148 [===============================================================================================] - 0s 0us/step\n",
      "Downloading data from https://storage.googleapis.com/tensorflow/tf-keras-datasets/t10k-images-idx3-ubyte.gz\n",
      "4423680/4422102 [==============================] - 0s 0us/step\n",
      "4431872/4422102 [==============================] - 0s 0us/step\n"
     ]
    },
    {
     "data": {
      "text/plain": [
       "<matplotlib.image.AxesImage at 0x7f6a0855f110>"
      ]
     },
     "execution_count": 10,
     "metadata": {},
     "output_type": "execute_result"
    },
    {
     "data": {
      "image/png": "[encoded data removed]",
      "text/plain": [
       "<Figure size 432x288 with 1 Axes>"
      ]
     },
     "metadata": {
      "needs_background": "light"
     },
     "output_type": "display_data"
    }
   ],
   "source": [
    "(X_train_full, y_train_full), (X_test, y_test) = keras.datasets.fashion_mnist.load_data() #train - 60_000 of 28x28 imgs, test - 10_000 of 28x28 imgs\n",
    "\n",
    "# X_train = X_train_full[y_train_full == 0 or y_train_full == 1]\n",
    "X_train = X_train_full[:5000] / 255.0\n",
    "y_train = y_train_full[:5000]\n",
    "X_test = X_test[:5000] / 255.0\n",
    "y_test = y_test[:5000]\n",
    "X_train = X_train.reshape(X_train.shape[0], X_train.shape[1], X_train.shape[2], 1)\n",
    "X_test = X_test.reshape(X_test.shape[0], X_test.shape[1], X_test.shape[2], 1)\n",
    "plt.imshow(X_train[5])"
   ]
  },
  {
   "cell_type": "code",
   "execution_count": 11,
   "id": "8e1542c5",
   "metadata": {
    "execution": {
     "iopub.execute_input": "2021-12-19T15:01:37.333872Z",
     "iopub.status.busy": "2021-12-19T15:01:37.333169Z",
     "iopub.status.idle": "2021-12-19T15:01:37.666770Z",
     "shell.execute_reply": "2021-12-19T15:01:37.667310Z",
     "shell.execute_reply.started": "2021-12-19T14:50:32.175584Z"
    },
    "papermill": {
     "duration": 0.388913,
     "end_time": "2021-12-19T15:01:37.667507",
     "exception": false,
     "start_time": "2021-12-19T15:01:37.278594",
     "status": "completed"
    },
    "tags": []
   },
   "outputs": [
    {
     "name": "stdout",
     "output_type": "stream",
     "text": [
      "Model: \"sequential_3\"\n",
      "_________________________________________________________________\n",
      "Layer (type)                 Output Shape              Param #   \n",
      "=================================================================\n",
      "conv2d (Conv2D)              (None, 26, 26, 64)        640       \n",
      "_________________________________________________________________\n",
      "max_pooling2d (MaxPooling2D) (None, 13, 13, 64)        0         \n",
      "_________________________________________________________________\n",
      "batch_normalization_2 (Batch (None, 13, 13, 64)        256       \n",
      "_________________________________________________________________\n",
      "conv2d_1 (Conv2D)            (None, 13, 13, 64)        36928     \n",
      "_________________________________________________________________\n",
      "max_pooling2d_1 (MaxPooling2 (None, 6, 6, 64)          0         \n",
      "_________________________________________________________________\n",
      "batch_normalization_3 (Batch (None, 6, 6, 64)          256       \n",
      "_________________________________________________________________\n",
      "conv2d_2 (Conv2D)            (None, 6, 6, 128)         73856     \n",
      "_________________________________________________________________\n",
      "max_pooling2d_2 (MaxPooling2 (None, 3, 3, 128)         0         \n",
      "_________________________________________________________________\n",
      "batch_normalization_4 (Batch (None, 3, 3, 128)         512       \n",
      "_________________________________________________________________\n",
      "flatten (Flatten)            (None, 1152)              0         \n",
      "_________________________________________________________________\n",
      "dense_9 (Dense)              (None, 128)               147584    \n",
      "_________________________________________________________________\n",
      "dropout_4 (Dropout)          (None, 128)               0         \n",
      "_________________________________________________________________\n",
      "dense_10 (Dense)             (None, 10)                1290      \n",
      "=================================================================\n",
      "Total params: 261,322\n",
      "Trainable params: 260,810\n",
      "Non-trainable params: 512\n",
      "_________________________________________________________________\n"
     ]
    }
   ],
   "source": [
    "model = keras.Sequential()\n",
    "model.add(layers.Conv2D(64, kernel_size=(3, 3), padding='valid', activation='relu', input_shape=(28, 28, 1)))\n",
    "model.add(layers.MaxPooling2D((2, 2)))\n",
    "model.add(layers.BatchNormalization())\n",
    "# model.add(layers.Conv2D(64, 3, padding='same', activation='relu'))\n",
    "model.add(layers.Conv2D(64, 3, padding='same', activation='relu'))\n",
    "model.add(layers.MaxPooling2D((2, 2)))\n",
    "model.add(layers.BatchNormalization())\n",
    "# model.add(layers.Dropout(0.2))\n",
    "# model.add(layers.Conv2D(128, 3, padding='same', activation='relu'))\n",
    "model.add(layers.Conv2D(128, 3, padding='same', activation='relu'))\n",
    "model.add(layers.MaxPooling2D((2, 2)))\n",
    "model.add(layers.BatchNormalization())\n",
    "# model.add(layers.Dropout(0.4))\n",
    "model.add(layers.Flatten())\n",
    "model.add(layers.Dense(128, activation='relu'))\n",
    "model.add(layers.Dropout(0.2))\n",
    "model.add(layers.Dense(10, activation='softmax'))\n",
    "\n",
    "model.summary()\n",
    "model.compile(loss='categorical_crossentropy', optimizer='adam', metrics=['accuracy'])"
   ]
  },
  {
   "cell_type": "code",
   "execution_count": 12,
   "id": "92b28991",
   "metadata": {
    "execution": {
     "iopub.execute_input": "2021-12-19T15:01:37.760278Z",
     "iopub.status.busy": "2021-12-19T15:01:37.759610Z",
     "iopub.status.idle": "2021-12-19T15:02:35.552927Z",
     "shell.execute_reply": "2021-12-19T15:02:35.551801Z",
     "shell.execute_reply.started": "2021-12-19T14:50:32.296900Z"
    },
    "papermill": {
     "duration": 57.841961,
     "end_time": "2021-12-19T15:02:35.553136",
     "exception": false,
     "start_time": "2021-12-19T15:01:37.711175",
     "status": "completed"
    },
    "tags": []
   },
   "outputs": [
    {
     "name": "stdout",
     "output_type": "stream",
     "text": [
      "Epoch 1/15\n",
      "125/125 [==============================] - 5s 33ms/step - loss: 0.7525 - accuracy: 0.7377 - val_loss: 2.7824 - val_accuracy: 0.0950\n",
      "Epoch 2/15\n",
      "125/125 [==============================] - 4s 33ms/step - loss: 0.4498 - accuracy: 0.8370 - val_loss: 2.7314 - val_accuracy: 0.1160\n",
      "Epoch 3/15\n",
      "125/125 [==============================] - 4s 31ms/step - loss: 0.3707 - accuracy: 0.8650 - val_loss: 1.5138 - val_accuracy: 0.5230\n",
      "Epoch 4/15\n",
      "125/125 [==============================] - 4s 32ms/step - loss: 0.2779 - accuracy: 0.9007 - val_loss: 0.7628 - val_accuracy: 0.7450\n",
      "Epoch 5/15\n",
      "125/125 [==============================] - 5s 37ms/step - loss: 0.2317 - accuracy: 0.9145 - val_loss: 0.4131 - val_accuracy: 0.8660\n",
      "Epoch 6/15\n",
      "125/125 [==============================] - 4s 31ms/step - loss: 0.2095 - accuracy: 0.9233 - val_loss: 0.3398 - val_accuracy: 0.8770\n",
      "Epoch 7/15\n",
      "125/125 [==============================] - 4s 31ms/step - loss: 0.1565 - accuracy: 0.9465 - val_loss: 0.3171 - val_accuracy: 0.8860\n",
      "Epoch 8/15\n",
      "125/125 [==============================] - 4s 32ms/step - loss: 0.1351 - accuracy: 0.9520 - val_loss: 0.3572 - val_accuracy: 0.8890\n",
      "Epoch 9/15\n",
      "125/125 [==============================] - 4s 32ms/step - loss: 0.1349 - accuracy: 0.9495 - val_loss: 0.3535 - val_accuracy: 0.9030\n",
      "Epoch 10/15\n",
      "125/125 [==============================] - 4s 32ms/step - loss: 0.0992 - accuracy: 0.9640 - val_loss: 0.3534 - val_accuracy: 0.8970\n",
      "Epoch 11/15\n",
      "125/125 [==============================] - 4s 31ms/step - loss: 0.0792 - accuracy: 0.9700 - val_loss: 0.3361 - val_accuracy: 0.8870\n",
      "Epoch 12/15\n",
      "125/125 [==============================] - 4s 32ms/step - loss: 0.0811 - accuracy: 0.9745 - val_loss: 0.3887 - val_accuracy: 0.8910\n",
      "Epoch 13/15\n",
      "125/125 [==============================] - 4s 31ms/step - loss: 0.0512 - accuracy: 0.9843 - val_loss: 0.4055 - val_accuracy: 0.8970\n",
      "Epoch 14/15\n",
      "125/125 [==============================] - 5s 37ms/step - loss: 0.0493 - accuracy: 0.9827 - val_loss: 0.4397 - val_accuracy: 0.8890\n"
     ]
    }
   ],
   "source": [
    "monitor = keras.callbacks.EarlyStopping(patience=5, min_delta=0.01, monitor='val_accuracy', restore_best_weights=True)\n",
    "y_train = keras.utils.to_categorical(y_train, 10)\n",
    "y_test = keras.utils.to_categorical(y_test, 10)\n",
    "history = model.fit(X_train, y_train, epochs=15, batch_size=32, validation_split=0.2, verbose=1, callbacks=[monitor])"
   ]
  },
  {
   "cell_type": "code",
   "execution_count": 13,
   "id": "d91c642a",
   "metadata": {
    "execution": {
     "iopub.execute_input": "2021-12-19T15:02:36.210193Z",
     "iopub.status.busy": "2021-12-19T15:02:36.209176Z",
     "iopub.status.idle": "2021-12-19T15:02:36.421963Z",
     "shell.execute_reply": "2021-12-19T15:02:36.422483Z",
     "shell.execute_reply.started": "2021-12-19T14:51:35.059355Z"
    },
    "papermill": {
     "duration": 0.55251,
     "end_time": "2021-12-19T15:02:36.422649",
     "exception": false,
     "start_time": "2021-12-19T15:02:35.870139",
     "status": "completed"
    },
    "tags": []
   },
   "outputs": [
    {
     "data": {
      "image/png": "[encoded data removed]",
      "text/plain": [
       "<Figure size 432x288 with 1 Axes>"
      ]
     },
     "metadata": {
      "needs_background": "light"
     },
     "output_type": "display_data"
    }
   ],
   "source": [
    "show_some(history.history)"
   ]
  },
  {
   "cell_type": "code",
   "execution_count": 14,
   "id": "143c1356",
   "metadata": {
    "execution": {
     "iopub.execute_input": "2021-12-19T15:02:37.059391Z",
     "iopub.status.busy": "2021-12-19T15:02:37.058696Z",
     "iopub.status.idle": "2021-12-19T15:02:38.566777Z",
     "shell.execute_reply": "2021-12-19T15:02:38.566217Z",
     "shell.execute_reply.started": "2021-12-19T14:51:35.270339Z"
    },
    "papermill": {
     "duration": 1.827201,
     "end_time": "2021-12-19T15:02:38.566920",
     "exception": false,
     "start_time": "2021-12-19T15:02:36.739719",
     "status": "completed"
    },
    "tags": []
   },
   "outputs": [
    {
     "name": "stdout",
     "output_type": "stream",
     "text": [
      "Test score: 0.4810992181301117\n",
      "Test accuracy: 0.86080002784729\n"
     ]
    }
   ],
   "source": [
    "score = model.evaluate(X_test, y_test, verbose=0) \n",
    "print('Test score:', score[0]) \n",
    "print('Test accuracy:', score[1])"
   ]
  },
  {
   "cell_type": "code",
   "execution_count": 15,
   "id": "994bb831",
   "metadata": {
    "execution": {
     "iopub.execute_input": "2021-12-19T15:02:39.211382Z",
     "iopub.status.busy": "2021-12-19T15:02:39.210629Z",
     "iopub.status.idle": "2021-12-19T15:02:43.353761Z",
     "shell.execute_reply": "2021-12-19T15:02:43.354248Z",
     "shell.execute_reply.started": "2021-12-19T14:51:36.692511Z"
    },
    "papermill": {
     "duration": 4.469655,
     "end_time": "2021-12-19T15:02:43.354431",
     "exception": false,
     "start_time": "2021-12-19T15:02:38.884776",
     "status": "completed"
    },
    "tags": []
   },
   "outputs": [
    {
     "name": "stdout",
     "output_type": "stream",
     "text": [
      "max phrase len: 41\n"
     ]
    },
    {
     "data": {
      "text/plain": [
       "11       1\n",
       "12       1\n",
       "18       1\n",
       "22       1\n",
       "23       1\n",
       "        ..\n",
       "41115    0\n",
       "41128    0\n",
       "41130    0\n",
       "41133    0\n",
       "41153    0\n",
       "Name: Sentiment, Length: 12105, dtype: int64"
      ]
     },
     "execution_count": 15,
     "metadata": {},
     "output_type": "execute_result"
    }
   ],
   "source": [
    "train_covid_data = pd.read_csv('../input/covid-19-nlp-text-classification/Corona_NLP_train.csv', encoding='latin-1')\n",
    "test_covid_data = pd.read_csv('../input/covid-19-nlp-text-classification/Corona_NLP_test.csv', encoding='latin-1')\n",
    "\n",
    "# train_covid_data[train_covid_data.Sentiment == 'Extremely Positive'].Sentiment = 1\n",
    "# train_covid_data[train_covid_data.Sentiment == 'Extremely Negative'].Sentiment = 0\n",
    "# test_covid_data[test_covid_data.Sentiment == 'Extremely Positive'].Sentiment = 1\n",
    "# test_covid_data[test_covid_data.Sentiment == 'Extremely Negative'].Sentiment = 0\n",
    "\n",
    "train_covid_data = train_covid_data.drop(columns=['UserName', 'ScreenName', 'Location', 'TweetAt'], axis = 1)\n",
    "test_covid_data = test_covid_data.drop(columns=['UserName', 'ScreenName', 'Location', 'TweetAt'], axis = 1)\n",
    "\n",
    "\n",
    "\n",
    "positive_data_train = train_covid_data[train_covid_data.Sentiment == 'Extremely Positive']\n",
    "negative_data_train = train_covid_data[train_covid_data.Sentiment == 'Extremely Negative']\n",
    "extreme_data_train = pd.concat([positive_data_train, negative_data_train])\n",
    "extreme_data_train[\"Sentiment\"] = extreme_data_train.Sentiment.apply(lambda i : 1 if i=='Extremely Positive' else 0)\n",
    "positive_data_test = test_covid_data[test_covid_data.Sentiment == 'Extremely Positive']\n",
    "negative_data_test = test_covid_data[test_covid_data.Sentiment == 'Extremely Negative']\n",
    "extreme_data_test = pd.concat([positive_data_test, negative_data_test])\n",
    "extreme_data_test[\"Sentiment\"] = extreme_data_test.Sentiment.apply(lambda i : 1 if i=='Extremely Positive' else 0)\n",
    "import re\n",
    "import string\n",
    "from nltk.corpus import stopwords\n",
    "def clean_text(text):\n",
    "    text = text.lower()\n",
    "    text = re.sub(\"@\\S+\", \" \", text)\n",
    "    text = re.sub(\"https*\\S+\", \" \", text)\n",
    "    text = re.sub(\"#\\S+\", \" \", text)\n",
    "    text = re.sub(\"\\d\", \" \", text)\n",
    "    text = re.sub('[%s]' % re.escape(string.punctuation), ' ', text)\n",
    "    text = re.sub('\\n', ' ', text)\n",
    "    text = re.sub('\\s{2,}',' ', text)\n",
    "    stop_words = stopwords.words(\"english\")\n",
    "    text = ' '.join([word for word in text.split(' ') if word not in stop_words])\n",
    "    return text\n",
    "X_train = extreme_data_train['OriginalTweet'].apply(lambda x: clean_text(x))\n",
    "X_test = extreme_data_test['OriginalTweet'].apply(lambda x: clean_text(x))\n",
    "\n",
    "y_train = extreme_data_train['Sentiment']\n",
    "y_test = extreme_data_test['Sentiment']\n",
    "phrase_len = X_train.apply(lambda p: len(p.split(' ')))\n",
    "max_phrase_len = phrase_len.max()\n",
    "print('max phrase len: {0}'.format(max_phrase_len))\n",
    "y_train"
   ]
  },
  {
   "cell_type": "code",
   "execution_count": 16,
   "id": "0348f372",
   "metadata": {
    "execution": {
     "iopub.execute_input": "2021-12-19T15:02:44.008273Z",
     "iopub.status.busy": "2021-12-19T15:02:44.007590Z",
     "iopub.status.idle": "2021-12-19T15:02:44.761784Z",
     "shell.execute_reply": "2021-12-19T15:02:44.762351Z",
     "shell.execute_reply.started": "2021-12-19T14:51:40.394251Z"
    },
    "papermill": {
     "duration": 1.090743,
     "end_time": "2021-12-19T15:02:44.762544",
     "exception": false,
     "start_time": "2021-12-19T15:02:43.671801",
     "status": "completed"
    },
    "tags": []
   },
   "outputs": [
    {
     "data": {
      "text/plain": [
       "array([[   0,    0,    0, ...,   37, 2720,   24],\n",
       "       [   0,    0,    0, ...,  712,  819, 2560],\n",
       "       [   0,    0,    0, ..., 1219,  169, 1507],\n",
       "       ...,\n",
       "       [   0,    0,    0, ...,    4, 1503, 1676],\n",
       "       [   0,    0,    0, ...,  640,  262,  403],\n",
       "       [   0,    0,    0, ...,   10,   81,   27]], dtype=int32)"
      ]
     },
     "execution_count": 16,
     "metadata": {},
     "output_type": "execute_result"
    }
   ],
   "source": [
    "max_words = 10000\n",
    "tokenizer = keras.preprocessing.text.Tokenizer(num_words= max_words, filters=' !\"#$%&()*+,./:;<=>?@[\\\\]^_`{|}~\\t\\n')\n",
    "tokenizer.fit_on_texts(X_train)\n",
    "X_train = tokenizer.texts_to_sequences(X_train)\n",
    "X_train = keras.preprocessing.sequence.pad_sequences(X_train, maxlen=max_phrase_len)\n",
    "y_train = tf.keras.utils.to_categorical(y_train)\n",
    "y_test = tf.keras.utils.to_categorical(y_test)\n",
    "X_train"
   ]
  },
  {
   "cell_type": "code",
   "execution_count": 17,
   "id": "d572d54b",
   "metadata": {
    "execution": {
     "iopub.execute_input": "2021-12-19T15:02:45.423979Z",
     "iopub.status.busy": "2021-12-19T15:02:45.423293Z",
     "iopub.status.idle": "2021-12-19T15:02:45.619996Z",
     "shell.execute_reply": "2021-12-19T15:02:45.619436Z",
     "shell.execute_reply.started": "2021-12-19T14:51:40.988907Z"
    },
    "papermill": {
     "duration": 0.531479,
     "end_time": "2021-12-19T15:02:45.620198",
     "exception": false,
     "start_time": "2021-12-19T15:02:45.088719",
     "status": "completed"
    },
    "tags": []
   },
   "outputs": [],
   "source": [
    "emb_dim = 128\n",
    "\n",
    "# model = keras.Sequential()\n",
    "# model.add(layers.Embedding(max_words, output_dim = 256, input_length = max_phrase_len))\n",
    "# model.add(layers.LSTM(256))\n",
    "# # model.add(layers.LSTM(256, activation = 'relu'))\n",
    "# model.add(layers.Dense(4, activation='sigmoid'))\n",
    "# model.compile(optimizer=\"adam\",\n",
    "#               loss=\"binary_crossentropy\",\n",
    "#               metrics=[\"accuracy\"])\n",
    "model = keras.Sequential()\n",
    "model.add(layers.Embedding(input_dim = max_words, output_dim = emb_dim, input_length = max_phrase_len))\n",
    "model.add(layers.SpatialDropout1D(0.2))\n",
    "model.add(layers.LSTM(emb_dim, dropout = 0.2, recurrent_dropout = 0.2))\n",
    "model.add(layers.Dense(emb_dim, activation = 'relu'))\n",
    "model.add(layers.Dropout(0.3))\n",
    "model.add(layers.Dense(2, activation = 'softmax'))\n",
    "model.compile(\n",
    "    loss='categorical_crossentropy',\n",
    "    optimizer='Adam',\n",
    "    metrics=['accuracy']\n",
    ")\n"
   ]
  },
  {
   "cell_type": "code",
   "execution_count": 18,
   "id": "c00e9e41",
   "metadata": {
    "execution": {
     "iopub.execute_input": "2021-12-19T15:02:46.272722Z",
     "iopub.status.busy": "2021-12-19T15:02:46.271964Z",
     "iopub.status.idle": "2021-12-19T15:04:39.725759Z",
     "shell.execute_reply": "2021-12-19T15:04:39.726458Z",
     "shell.execute_reply.started": "2021-12-19T14:56:14.247213Z"
    },
    "papermill": {
     "duration": 113.78431,
     "end_time": "2021-12-19T15:04:39.726726",
     "exception": false,
     "start_time": "2021-12-19T15:02:45.942416",
     "status": "completed"
    },
    "tags": []
   },
   "outputs": [
    {
     "name": "stdout",
     "output_type": "stream",
     "text": [
      "Epoch 1/5\n",
      "76/76 [==============================] - 26s 297ms/step - loss: 0.4253 - accuracy: 0.7950 - val_loss: 0.4385 - val_accuracy: 0.7988\n",
      "Epoch 2/5\n",
      "76/76 [==============================] - 21s 281ms/step - loss: 0.0878 - accuracy: 0.9709 - val_loss: 0.3646 - val_accuracy: 0.8715\n",
      "Epoch 3/5\n",
      "76/76 [==============================] - 22s 287ms/step - loss: 0.0273 - accuracy: 0.9923 - val_loss: 0.3175 - val_accuracy: 0.9083\n",
      "Epoch 4/5\n",
      "76/76 [==============================] - 22s 289ms/step - loss: 0.0107 - accuracy: 0.9976 - val_loss: 0.5104 - val_accuracy: 0.8579\n",
      "Epoch 5/5\n",
      "76/76 [==============================] - 22s 290ms/step - loss: 0.0055 - accuracy: 0.9980 - val_loss: 0.4524 - val_accuracy: 0.8955\n",
      "Model: \"sequential_4\"\n",
      "_________________________________________________________________\n",
      "Layer (type)                 Output Shape              Param #   \n",
      "=================================================================\n",
      "embedding (Embedding)        (None, 41, 128)           1280000   \n",
      "_________________________________________________________________\n",
      "spatial_dropout1d (SpatialDr (None, 41, 128)           0         \n",
      "_________________________________________________________________\n",
      "lstm (LSTM)                  (None, 128)               131584    \n",
      "_________________________________________________________________\n",
      "dense_11 (Dense)             (None, 128)               16512     \n",
      "_________________________________________________________________\n",
      "dropout_5 (Dropout)          (None, 128)               0         \n",
      "_________________________________________________________________\n",
      "dense_12 (Dense)             (None, 2)                 258       \n",
      "=================================================================\n",
      "Total params: 1,428,354\n",
      "Trainable params: 1,428,354\n",
      "Non-trainable params: 0\n",
      "_________________________________________________________________\n",
      "None\n"
     ]
    }
   ],
   "source": [
    "history = model.fit(X_train,\n",
    "                    y_train,\n",
    "                    epochs=5,\n",
    "                    batch_size=128,\n",
    "                    validation_split=0.2,\n",
    "                    shuffle = True)\n",
    "print(model.summary())"
   ]
  },
  {
   "cell_type": "code",
   "execution_count": 19,
   "id": "e1721f7a",
   "metadata": {
    "execution": {
     "iopub.execute_input": "2021-12-19T15:04:40.697648Z",
     "iopub.status.busy": "2021-12-19T15:04:40.696760Z",
     "iopub.status.idle": "2021-12-19T15:04:40.971825Z",
     "shell.execute_reply": "2021-12-19T15:04:40.971198Z",
     "shell.execute_reply.started": "2021-12-19T14:59:40.131881Z"
    },
    "papermill": {
     "duration": 0.73952,
     "end_time": "2021-12-19T15:04:40.971962",
     "exception": false,
     "start_time": "2021-12-19T15:04:40.232442",
     "status": "completed"
    },
    "tags": []
   },
   "outputs": [
    {
     "data": {
      "image/png": "[encoded data removed]",
      "text/plain": [
       "<Figure size 432x288 with 1 Axes>"
      ]
     },
     "metadata": {
      "needs_background": "light"
     },
     "output_type": "display_data"
    }
   ],
   "source": [
    "loss = history.history['loss']\n",
    "val_loss = history.history['val_loss']\n",
    "epochs = range(1, len(loss) + 1)\n",
    "plt.plot(epochs, loss, 'b', label='Training loss')\n",
    "plt.plot(epochs, val_loss, 'r', label='Validation loss')\n",
    "plt.title('Training and validation loss')\n",
    "plt.xlabel('Epochs')\n",
    "plt.ylabel('Loss')\n",
    "# plt.grid()\n",
    "plt.legend()\n",
    "# plt.show()\n",
    "acc = history.history['accuracy']\n",
    "val_acc = history.history['val_accuracy']\n",
    "plt.plot(epochs, acc, 'g', label='Training acc')\n",
    "plt.plot(epochs, val_acc, 'y', label='Validation acc')\n",
    "plt.title('Training and validation accuracy')\n",
    "plt.xlabel('Epochs')\n",
    "plt.ylabel('Accuracy')\n",
    "plt.grid()\n",
    "plt.legend()\n",
    "plt.show()"
   ]
  },
  {
   "cell_type": "code",
   "execution_count": 20,
   "id": "dc45a641",
   "metadata": {
    "execution": {
     "iopub.execute_input": "2021-12-19T15:04:41.929880Z",
     "iopub.status.busy": "2021-12-19T15:04:41.909158Z",
     "iopub.status.idle": "2021-12-19T15:04:43.325844Z",
     "shell.execute_reply": "2021-12-19T15:04:43.325210Z",
     "shell.execute_reply.started": "2021-12-19T15:00:39.413575Z"
    },
    "papermill": {
     "duration": 1.891726,
     "end_time": "2021-12-19T15:04:43.325984",
     "exception": false,
     "start_time": "2021-12-19T15:04:41.434258",
     "status": "completed"
    },
    "tags": []
   },
   "outputs": [
    {
     "name": "stdout",
     "output_type": "stream",
     "text": [
      "Test score: 0.2801991403102875\n",
      "Test accuracy: 0.9319899082183838\n"
     ]
    }
   ],
   "source": [
    "X_test = tokenizer.texts_to_sequences(X_test)\n",
    "X_test = keras.preprocessing.sequence.pad_sequences(X_test, maxlen=max_phrase_len)\n",
    "score = model.evaluate(X_test, y_test, verbose=0) \n",
    "print('Test score:', score[0]) \n",
    "print('Test accuracy:', score[1])"
   ]
  }
 ],
 "metadata": {
  "kernelspec": {
   "display_name": "Python 3",
   "language": "python",
   "name": "python3"
  },
  "language_info": {
   "codemirror_mode": {
    "name": "ipython",
    "version": 3
   },
   "file_extension": ".py",
   "mimetype": "text/x-python",
   "name": "python",
   "nbconvert_exporter": "python",
   "pygments_lexer": "ipython3",
   "version": "3.7.12"
  },
  "papermill": {
   "default_parameters": {},
   "duration": 226.878577,
   "end_time": "2021-12-19T15:04:47.300303",
   "environment_variables": {},
   "exception": null,
   "input_path": "__notebook__.ipynb",
   "output_path": "__notebook__.ipynb",
   "parameters": {},
   "start_time": "2021-12-19T15:01:00.421726",
   "version": "2.3.3"
  }
 },
 "nbformat": 4,
 "nbformat_minor": 5
}
